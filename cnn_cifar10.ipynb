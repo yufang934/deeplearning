{
  "nbformat": 4,
  "nbformat_minor": 0,
  "metadata": {
    "colab": {
      "name": "cnn_cifar10.ipynb",
      "private_outputs": true,
      "provenance": [],
      "collapsed_sections": [],
      "authorship_tag": "ABX9TyO9D2jx7ahBRnWpKTYPP7DZ",
      "include_colab_link": true
    },
    "kernelspec": {
      "name": "python3",
      "display_name": "Python 3"
    },
    "accelerator": "GPU"
  },
  "cells": [
    {
      "cell_type": "markdown",
      "metadata": {
        "id": "view-in-github",
        "colab_type": "text"
      },
      "source": [
        "<a href=\"https://colab.research.google.com/github/yufang934/deeplearning/blob/main/cnn_cifar10.ipynb\" target=\"_parent\"><img src=\"https://colab.research.google.com/assets/colab-badge.svg\" alt=\"Open In Colab\"/></a>"
      ]
    },
    {
      "cell_type": "code",
      "metadata": {
        "id": "-ru6Hyio732J"
      },
      "source": [
        "from tensorflow.keras.datasets import cifar10\n",
        "(x_train, y_train), (x_test, y_test) = cifar10.load_data()"
      ],
      "execution_count": null,
      "outputs": []
    },
    {
      "cell_type": "code",
      "metadata": {
        "id": "JlvAAHsg9KO8"
      },
      "source": [
        "trans =[\n",
        "    \"airplane\",\n",
        "    \"automobile\",\n",
        "    \"bird\",\n",
        "    \"cat\",\n",
        "    \"deer\",\n",
        "    \"dog\",\n",
        "    \"frog\",\n",
        "    \"horse\",\n",
        "    \"ship\",\n",
        "    \"truck\"\n",
        "]\n"
      ],
      "execution_count": null,
      "outputs": []
    },
    {
      "cell_type": "code",
      "metadata": {
        "id": "-vIKubGn99Dv"
      },
      "source": [
        "print(x_train.shape)\n",
        "print(y_train.shape)\n",
        "print(x_test.shape)\n",
        "print(y_test.shape)"
      ],
      "execution_count": null,
      "outputs": []
    },
    {
      "cell_type": "code",
      "metadata": {
        "id": "wVt7fYKr-LQm"
      },
      "source": [
        "import random\n",
        "import matplotlib.pyplot as plt\n",
        "idx = random.randint(0, x_train.shape[0]-1)\n",
        "print(\"ans:\", trans[y_train[idx][0]])\n",
        "plt.imshow(x_train[idx])"
      ],
      "execution_count": null,
      "outputs": []
    },
    {
      "cell_type": "code",
      "metadata": {
        "id": "Z_TuUp6i_pbz"
      },
      "source": [
        "#資料預處理\n",
        "from tensorflow.keras.models import Sequential\n",
        "from tensorflow.keras.layers import Conv2D, MaxPooling2D\n",
        "from tensorflow.keras.layers import Dense, Dropout, Flatten\n",
        "#faltten層:平坦層\n",
        "#https://www.tensorflow.org/api_docs/python/tf/keras/layers/Conv2D\n",
        "#kernel_size是配合strides，要可以整除。ex:kernel_size=4,strides=2,4/2\n",
        "#池化\n",
        "layers = [\n",
        "    # (一個過濾器)3 * 3 * 3 *  * 64(filter數目) + 64(bais) -> 1792\n",
        "    # 只要中間層的activation就選relu\n",
        "    Conv2D(64, 3, padding=\"same\", activation=\"relu\", input_shape=(32, 32, 3)),\n",
        "    MaxPooling2D(),\n",
        "    # (一個過濾器)3 * 3 * 64 * (filter數目) * 128 + 128 -> 73856\n",
        "    Conv2D(128, 3, padding=\"same\", activation=\"relu\"),\n",
        "    MaxPooling2D(),\n",
        "    Conv2D(256, 3, padding=\"same\", activation=\"relu\"),\n",
        "    MaxPooling2D(),\n",
        "    Flatten(),\n",
        "    Dense(128, activation=\"relu\"),\n",
        "    Dropout(0.25),\n",
        "    # softmax:全部加起來=1的激活涵式\n",
        "    Dense(10, activation=\"softmax\")\n",
        "]\n",
        "model = Sequential(layers)\n",
        "model.summary()\n"
      ],
      "execution_count": null,
      "outputs": []
    },
    {
      "cell_type": "code",
      "metadata": {
        "id": "Vl403PtyFnXC"
      },
      "source": [
        "#loss(跟正確的距離):最後輸出一個：binary_crossentropy,最後輸出多個：categorical_crossentropy\n",
        "#optimizer:下降的時候優化 ->基於動能(我在走的時候不是等速度，而有速度的累積)\n",
        "from tensorflow.keras.losses import SparseCategoricalCrossentropy\n",
        "from tensorflow.keras.optimizers import Adam\n",
        "model.compile(loss=SparseCategoricalCrossentropy(),\n",
        "       optimizer=Adam(),\n",
        "       metrics=[\"accuracy\"])"
      ],
      "execution_count": null,
      "outputs": []
    },
    {
      "cell_type": "code",
      "metadata": {
        "id": "U4dyYPnQGY-c"
      },
      "source": [
        "x_train_norm = x_train / 255\n",
        "x_test_norm = x_test / 255"
      ],
      "execution_count": null,
      "outputs": []
    },
    {
      "cell_type": "code",
      "metadata": {
        "id": "VMI-95xIUxbT"
      },
      "source": [
        "# epoch: 整份資料要看幾遍\n",
        "# 60000筆, 2epoch, 200batch -> 60000 * 2 / 200次調整\n",
        "from tensorflow.keras.callbacks import EarlyStopping, ModelCheckpoint\n",
        "callbacks = [\n",
        "    ModelCheckpoint(\"model.h5\", save_best_only=True),\n",
        "    EarlyStopping(patience=5, restore_best_weights=True)\n",
        "]\n",
        "model.fit(x_train_norm, \n",
        "     y_train,\n",
        "     batch_size=100,\n",
        "     epochs=50,\n",
        "     validation_split=0.1,\n",
        "     callbacks=callbacks,\n",
        "     verbose=2)"
      ],
      "execution_count": null,
      "outputs": []
    },
    {
      "cell_type": "code",
      "metadata": {
        "id": "6FthNjLbWL8m"
      },
      "source": [
        "model.evaluate(x_test_norm, y_test)"
      ],
      "execution_count": null,
      "outputs": []
    },
    {
      "cell_type": "code",
      "metadata": {
        "id": "yGgVlzDUWP9k"
      },
      "source": [
        "#混淆矩陣\n",
        "import pandas as pd\n",
        "from sklearn.metrics import confusion_matrix\n",
        "pre = model.predict_classes(x_test_norm)\n",
        "mat = confusion_matrix(y_test, pre)\n",
        "pd.DataFrame(mat,\n",
        "      index=[\"{}(原本)\".format(n) for n in trans],\n",
        "      columns=[\"{}(預測)\".format(n) for n in trans])"
      ],
      "execution_count": null,
      "outputs": []
    },
    {
      "cell_type": "code",
      "metadata": {
        "id": "qqM3Xx45WSRb"
      },
      "source": [
        "pre = model.predict_classes(x_test_norm)\n",
        "print(pre.shape)\n",
        "print(y_test.shape)\n",
        "y_test_r = y_test.reshape(10000)\n",
        "print(y_test_r.shape)\n",
        "pre"
      ],
      "execution_count": null,
      "outputs": []
    },
    {
      "cell_type": "code",
      "metadata": {
        "id": "dWFHDxQZWUCv"
      },
      "source": [
        "# subplot(總高度, 總寬度, ith)\n",
        "import numpy as np\n",
        "idx = np.nonzero(pre != y_test_r)[0]\n",
        "#印200張\n",
        "idx = idx[:200]\n",
        "false_img = x_test[idx]\n",
        "false_label = y_test_r[idx]\n",
        "false_pre = pre[idx]\n",
        "\n",
        "plt.figure(figsize=(14, 42))\n",
        "width = 10\n",
        "height = len(false_img) // width + 1\n",
        "for i in range(len(false_img)):\n",
        "    plt.subplot(height, width, i+1)\n",
        "    title = \"[O]:{}\\n[P]:{}\".format(trans[false_label[i]], trans[false_pre[i]])\n",
        "    plt.title(title)\n",
        "    plt.axis(\"off\")\n",
        "    plt.imshow(false_img[i])"
      ],
      "execution_count": null,
      "outputs": []
    },
    {
      "cell_type": "code",
      "metadata": {
        "id": "51pZpydTWUuy"
      },
      "source": [
        "# pip install pillow\n",
        "import PIL\n",
        "import requests\n",
        "url = input(\"輸入網址:\")\n",
        "h = {\n",
        "    \"user-agent\":\"Mozilla/5.0 (Windows NT 10.0; Win64; x64) AppleWebKit/537.36 (KHTML, like Gecko) Chrome/86.0.4240.111 Safari/537.36\"\n",
        "}\n",
        "response = requests.get(url, stream=True, verify=False, headers=h)\n",
        "img = PIL.Image.open(response.raw).resize((32, 32))\n",
        "img_np = np.array(img)\n",
        "test = img_np.reshape(1, 32, 32, 3) / 255\n",
        "probs = model.predict(test)[0]\n",
        "for i, p in enumerate(probs):\n",
        "    print(trans[i], \"的機率是:\", round(p, 3))\n",
        "ans = model.predict_classes(test)[0]\n",
        "print(\"應該是:\", trans[ans])\n",
        "plt.imshow(img_np)"
      ],
      "execution_count": null,
      "outputs": []
    },
    {
      "cell_type": "code",
      "metadata": {
        "id": "34vFBuD3XJed"
      },
      "source": [
        ""
      ],
      "execution_count": null,
      "outputs": []
    }
  ]
}